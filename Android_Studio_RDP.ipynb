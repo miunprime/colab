{
  "nbformat": 4,
  "nbformat_minor": 0,
  "metadata": {
    "colab": {
      "name": "Android Studio RDP.ipynb",
      "provenance": [],
      "collapsed_sections": [
        "i9PPS1iHrLSz",
        "jv-RQDMycIhR"
      ],
      "include_colab_link": true
    },
    "kernelspec": {
      "name": "python3",
      "display_name": "Python 3"
    }
  },
  "cells": [
    {
      "cell_type": "markdown",
      "metadata": {
        "id": "view-in-github",
        "colab_type": "text"
      },
      "source": [
        "<a href=\"https://colab.research.google.com/github/miunprime/colab/blob/main/Android_Studio_RDP.ipynb\" target=\"_parent\"><img src=\"https://colab.research.google.com/assets/colab-badge.svg\" alt=\"Open In Colab\"/></a>"
      ]
    },
    {
      "cell_type": "markdown",
      "source": [
        "#__Google Colab RDP__"
      ],
      "metadata": {
        "id": "i9PPS1iHrLSz"
      }
    },
    {
      "cell_type": "code",
      "source": [
        "#@title **Create User & Password**\n",
        "\n",
        "import os\n",
        "\n",
        "username = \"colabrdp\" #@param {type:\"string\"}\n",
        "password = \"123456\" #@param {type:\"string\"}\n",
        "\n",
        "print(\"Creating User and Setting it up\")\n",
        "\n",
        "# Creation of user\n",
        "os.system(f\"useradd -m {username}\")\n",
        "\n",
        "# Add user to sudo group\n",
        "os.system(f\"adduser {username} sudo\")\n",
        "    \n",
        "# Set password of user to 'root'\n",
        "os.system(f\"echo '{username}:{password}' | sudo chpasswd\")\n",
        "\n",
        "# Change default shell from sh to bash\n",
        "os.system(\"sed -i 's/\\/bin\\/sh/\\/bin\\/bash/g' /etc/passwd\")\n",
        "\n",
        "print(f\"User created and configured having username `{username}` and password `{password}`\")\n",
        "\n",
        "#@markdown  It takes 4-5 minutes for installation\n",
        "\n",
        "import os\n",
        "import subprocess\n",
        "\n",
        "#@markdown  Visit <a href=\"http://remotedesktop.google.com/headless\">Remote Desktop</a> and copy the command after Authentication\n",
        "\n",
        "CRP = \"\" #@param {type:\"string\"}\n",
        "Pin = 123456 #@param {type: \"integer\"}\n",
        "Autostart = True #@param {type: \"boolean\"}\n",
        "\n",
        "\n",
        "class CRD:\n",
        "    def __init__(self, user):\n",
        "        os.system(\"apt update\")\n",
        "        self.installCRD()\n",
        "        self.installDesktopEnvironment()\n",
        "        self.installGoogleChorme()\n",
        "        self.finish(user)\n",
        "        print(\"\\nRDP created succesfully move to <a href=\"https://remotedesktop.google.com/access\">Remote Desktop</a> )\n",
        "\n",
        "    @staticmethod\n",
        "    def installCRD():\n",
        "        print(\"Installing Chrome Remote Desktop\")\n",
        "        subprocess.run(['wget', 'https://dl.google.com/linux/direct/chrome-remote-desktop_current_amd64.deb'], stdout=subprocess.PIPE)\n",
        "        subprocess.run(['dpkg', '--install', 'chrome-remote-desktop_current_amd64.deb'], stdout=subprocess.PIPE)\n",
        "        subprocess.run(['apt', 'install', '--assume-yes', '--fix-broken'], stdout=subprocess.PIPE)\n",
        "\n",
        "    @staticmethod\n",
        "    def installDesktopEnvironment():\n",
        "        print(\"Installing Desktop Environment\")\n",
        "        os.system(\"export DEBIAN_FRONTEND=noninteractive\")\n",
        "        os.system(\"apt install --assume-yes xfce4 desktop-base xfce4-terminal\")\n",
        "        os.system(\"bash -c 'echo \\\"exec /etc/X11/Xsession /usr/bin/xfce4-session\\\" > /etc/chrome-remote-desktop-session'\")\n",
        "        os.system(\"apt remove --assume-yes gnome-terminal\")\n",
        "        os.system(\"apt install --assume-yes xscreensaver\")\n",
        "        os.system(\"systemctl disable lightdm.service\")\n",
        "\n",
        "    @staticmethod\n",
        "    def installGoogleChorme():\n",
        "        print(\"Installing Google Chrome\")\n",
        "        subprocess.run([\"wget\", \"https://dl.google.com/linux/direct/google-chrome-stable_current_amd64.deb\"], stdout=subprocess.PIPE)\n",
        "        subprocess.run([\"dpkg\", \"--install\", \"google-chrome-stable_current_amd64.deb\"], stdout=subprocess.PIPE)\n",
        "        subprocess.run(['apt', 'install', '--assume-yes', '--fix-broken'], stdout=subprocess.PIPE)\n",
        "\n",
        "    @staticmethod\n",
        "    def finish(user):\n",
        "        print(\"Finalizing\")\n",
        "        if Autostart:\n",
        "            os.makedirs(f\"/home/{user}/.config/autostart\", exist_ok=True)\n",
        "            link = \"https://colab.research.google.com/github/miunprime/colab/blob/main/RDP_ROTG_Tools.ipynb\"\n",
        "            colab_autostart = \"\"\"[Desktop Entry]\n",
        "Type=Application\n",
        "Name=Colab\n",
        "Exec=sh -c \"sensible-browser {}\"\n",
        "Icon=\n",
        "Comment=Open a predefined notebook at session signin.\n",
        "X-GNOME-Autostart-enabled=true\"\"\".format(link)\n",
        "            with open(f\"/home/{user}/.config/autostart/colab.desktop\", \"w\") as f:\n",
        "                f.write(colab_autostart)\n",
        "            os.system(f\"chmod +x /home/{user}/.config/autostart/colab.desktop\")\n",
        "            os.system(f\"chown {user}:{user} /home/{user}/.config\")\n",
        "\n",
        "        os.system(f\"adduser {user} chrome-remote-desktop\")\n",
        "        command = f\"{CRP} --pin={Pin}\"\n",
        "        os.system(f\"su - {user} -c '{command}'\")\n",
        "        os.system(\"service chrome-remote-desktop start\")\n",
        "        \n",
        "\n",
        "        print(\"Finished Succesfully\")\n",
        "\n",
        "\n",
        "try:\n",
        "    if CRP == \"\":\n",
        "        print(\"Please enter authcode from the given link\")\n",
        "    elif len(str(Pin)) < 6:\n",
        "        print(\"Enter a pin more or equal to 6 digits\")\n",
        "    else:\n",
        "        CRD(username)\n",
        "except NameError as e:\n",
        "    print(\"'username' variable not found, Create a user first\")"
      ],
      "metadata": {
        "id": "RgwGTFw0spMt",
        "cellView": "form"
      },
      "execution_count": null,
      "outputs": []
    },
    {
      "cell_type": "code",
      "source": [
        "#@markdown **Install Android Studio**\n",
        "!sudo apt install openjdk-11-jdk\n",
        "!java --version\n",
        "!sudo apt-add-repository ppa:maarten-fonville/android-studio\n",
        "!sudo apt update\n",
        "!sudo apt install android-studio"
      ],
      "metadata": {
        "cellView": "form",
        "id": "Dk8fQPi7l4WF"
      },
      "execution_count": null,
      "outputs": []
    },
    {
      "cell_type": "markdown",
      "source": [
        "#__Google Colab ROTG Tools__"
      ],
      "metadata": {
        "id": "jv-RQDMycIhR"
      }
    },
    {
      "cell_type": "code",
      "source": [
        "#@title **Install ROTG tools**\n",
        "from google.colab import drive\n",
        "drive.mount('/content/drive')\n",
        "print(\"Done! Google Drive Mounted\")\n",
        "from IPython.display import clear_output \n",
        "!sudo apt update\n",
        "!sudo curl -L https://github.com/yt-dlp/yt-dlp/releases/latest/download/yt-dlp -o /usr/local/bin/yt-dlp\n",
        "!sudo chmod a+rx /usr/local/bin/yt-dlp\n",
        "!sudo curl -L https://github.com/miunprime/colab/raw/main/mp4decrypt -o /usr/local/bin/mp4decrypt\n",
        "!sudo chmod a+rx /usr/local/bin/mp4decrypt\n",
        "!sudo apt install ffmpeg\n",
        "!sudo apt install aria2\n",
        "clear_output()\n",
        "print(\"Done! ROTG Tools Installed\")"
      ],
      "metadata": {
        "id": "7A_f6IA3cQHa",
        "cellView": "form",
        "colab": {
          "base_uri": "https://localhost:8080/"
        },
        "outputId": "8c826183-af12-4ee0-fa97-43654a41b1d3"
      },
      "execution_count": null,
      "outputs": [
        {
          "output_type": "stream",
          "name": "stdout",
          "text": [
            "Done! ROTG Tools Installed\n"
          ]
        }
      ]
    },
    {
      "cell_type": "code",
      "source": [
        "#@markdown **Extract Manifest Info**\n",
        "MPD_URL = 'https://vodejitp-asset-playback-b.astro.com.my/dash-wv/vode/84ab097e-ef3e-5900-b232-81ec315d9246/default.mpd' #@param {type:\"string\"}\n",
        "!yt-dlp --no-warnings --allow-u -F \"{MPD_URL}\""
      ],
      "metadata": {
        "id": "uqJmkdPFd2up",
        "cellView": "form"
      },
      "execution_count": null,
      "outputs": []
    },
    {
      "cell_type": "code",
      "source": [
        "#@markdown <h2>Download Video and Audio</h2>\n",
        "from IPython.display import clear_output\n",
        "VIDEO_ID = '84ab097e-ef3e-5900-b232-81ec315d9246-4_video_frag_auto.idx~video_frag_auto~481' #@param {type:\"string\"}\n",
        "AUDIO_ID = '84ab097e-ef3e-5900-b232-81ec315d9246-0_audio_frag_482_64000.idx~audio_frag_482_64000' #@param {type:\"string\"}\n",
        "VIDEO_OUTPUT = 'default.mp4' #@param {type:\"string\"}\n",
        "AUDIO_OUTPUT = 'default.m4a' #@param {type:\"string\"}\n",
        "VIDEO_DECRYPT_OUTPUT = 'dec.mp4' #@param {type:\"string\"}\n",
        "AUDIO_DECRYPT_OUTPUT = 'dec.m4a' #@param {type:\"string\"}\n",
        "KID_KEY = 'b3c07c35ed2455f9b85c964c50df8749:33e926f97e9624d919713a4b22d3b022' #@param {type:\"string\"}\n",
        "FINAL_OUTPUT = 'done.mp4' #@param {type:\"string\"}\n",
        "print(\"Downloading Encrypted video.....\")\n",
        "!yt-dlp --no-warnings --allow-u -f \"{VIDEO_ID}\" \"{MPD_URL}\" -o \"{VIDEO_OUTPUT}\" -N 60\n",
        "clear_output()\n",
        "print(\"Success\")\n",
        "clear_output()\n",
        "print(\"Downloading Encrypted audio.....\")\n",
        "!yt-dlp --no-warnings --allow-u -f \"{AUDIO_ID}\" \"{MPD_URL}\" -o \"{AUDIO_OUTPUT}\" -N 60\n",
        "clear_output()\n",
        "print(\"Success\")\n",
        "clear_output()\n",
        "print(\"Decrypting video.....\")\n",
        "!mp4decrypt --show-progress --key \"{KID_KEY}\" \"{VIDEO_OUTPUT}\" \"{VIDEO_DECRYPT_OUTPUT}\"\n",
        "clear_output()\n",
        "print(\"Success\")\n",
        "clear_output()\n",
        "print(\"Decrypting audio.....\")\n",
        "!mp4decrypt --show-progress --key \"{KID_KEY}\" \"{AUDIO_OUTPUT}\" \"{AUDIO_DECRYPT_OUTPUT}\"\n",
        "clear_output()\n",
        "print(\"Success\")\n",
        "clear_output()\n",
        "print(\"Merging video and audio into single file.....\")\n",
        "!ffmpeg -loglevel error -i \"{VIDEO_DECRYPT_OUTPUT}\" -i \"{AUDIO_DECRYPT_OUTPUT}\" -c copy \"{FINAL_OUTPUT}\"\n",
        "clear_output()\n",
        "print(\"Success\")\n",
        "clear_output()\n",
        "print(\"Done! Video Ready to Download.\")"
      ],
      "metadata": {
        "id": "yesgUWe2fF0p",
        "cellView": "form"
      },
      "execution_count": null,
      "outputs": []
    },
    {
      "cell_type": "code",
      "source": [
        "#@title **Get List And Download**\n",
        "print(\"Get List....\")\n",
        "!yt-dlp --no-warnings --allow-u --list-subs \"{MPD_URL}\"\n",
        "print(\"Downloading....\")\n",
        "!yt-dlp --no-warnings --allow-u -N 32 --skip-download --all-subs \"{MPD_URL}\" -o subtitle\n",
        "clear_output()\n",
        "print(\"Done! All Subtitle Downloaded\")"
      ],
      "metadata": {
        "cellView": "form",
        "id": "vxllVZ7Rqx7M",
        "colab": {
          "base_uri": "https://localhost:8080/"
        },
        "outputId": "d3ac183c-d2d9-42a2-81ad-fcc663f843eb"
      },
      "execution_count": null,
      "outputs": [
        {
          "output_type": "stream",
          "name": "stdout",
          "text": [
            "Done! All Subtitle Downloaded\n"
          ]
        }
      ]
    },
    {
      "cell_type": "code",
      "source": [
        "#@title **Convert VTT to SRT**\n",
        "SUBTITLE_INPUT_01 = 'subtitle.MA.vtt' #@param {type:\"string\"}\n",
        "SUBTITLE_OUTPUT_01 = 'MA.srt' #@param {type:\"string\"}\n",
        "!ffmpeg -loglevel error -i \"{SUBTITLE_INPUT_01}\" \"{SUBTITLE_OUTPUT_01}\"\n",
        "SUBTITLE_INPUT_02 = 'subtitle.EN.vtt' #@param {type:\"string\"}\n",
        "SUBTITLE_OUTPUT_02 = 'EN.srt' #@param {type:\"string\"}\n",
        "!ffmpeg -loglevel error -i \"{SUBTITLE_INPUT_02}\" \"{SUBTITLE_OUTPUT_02}\"\n",
        "SUBTITLE_INPUT_03 = 'subtitle.CN.vtt' #@param {type:\"string\"}\n",
        "SUBTITLE_OUTPUT_03 = 'CN.srt' #@param {type:\"string\"}\n",
        "!ffmpeg -loglevel error -i \"{SUBTITLE_INPUT_03}\" \"{SUBTITLE_OUTPUT_03}\"\n",
        "clear_output()\n",
        "print(\"Done! All Subtitle Converted to SRT\")"
      ],
      "metadata": {
        "id": "pxF8VMauwllD",
        "cellView": "form",
        "colab": {
          "base_uri": "https://localhost:8080/"
        },
        "outputId": "891430f5-b086-49bc-b452-266350d129bf"
      },
      "execution_count": null,
      "outputs": [
        {
          "output_type": "stream",
          "name": "stdout",
          "text": [
            "Done! All Subtitle Converted to SRT\n"
          ]
        }
      ]
    },
    {
      "cell_type": "code",
      "source": [
        "#@markdown **Mux Video and Subtitle**\n",
        "SUBTITLE_01 = 'EN.srt' #@param {type:\"string\"}\n",
        "SUBTITLE_02 = 'MA.srt' #@param {type:\"string\"}\n",
        "SUBTITLE_03 = 'CN.srt' #@param {type:\"string\"}\n",
        "LANGUAGE_01 = 'english' #@param {type:\"string\"}\n",
        "LANGUAGE_02 = 'malaysia' #@param {type:\"string\"}\n",
        "LANGUAGE_03 = 'china' #@param {type:\"string\"}\n",
        "MUX_OUTPUT = 'The.Batman.2022.1080p.WEB-DL.DDP5.1.Atmos.x265.HEVC-AAC.H264-ROTG.mkv' #@param {type:\"string\"}\n",
        "print(\"Processing.....\")\n",
        "!ffmpeg -i \"{FINAL_OUTPUT}\" -i \"{SUBTITLE_01}\" -i \"{SUBTITLE_02}\" -i \"{SUBTITLE_03}\" -map 0 -map 1:s -map 2:s -map 3:s -c copy -metadata:s:s:0 language=\"{LANGUAGE_01}\" -metadata:s:s:1 language=\"{LANGUAGE_02}\" -metadata:s:s:2 language=\"{LANGUAGE_03}\" \"{MUX_OUTPUT}\"\n",
        "clear_output()\n",
        "print(\"Done! Video and Subtitle Muxed\")"
      ],
      "metadata": {
        "id": "MJaafoKCzmbh",
        "cellView": "form"
      },
      "execution_count": null,
      "outputs": []
    },
    {
      "cell_type": "code",
      "source": [
        "#@markdown **Copy From Root to Google Drive**\n",
        "DrivePath01 = '' #@param {type:\"string\"}\n",
        "DrivePath02 = '' #@param {type:\"string\"}\n",
        "DrivePath03 = '' #@param {type:\"string\"}\n",
        "DrivePath04 = '' #@param {type:\"string\"}\n",
        "print(\"Processing.....\")\n",
        "!cp -r \"{MUX_OUTPUT}\" \"{DrivePath01}\"\n",
        "!cp -r \"{MUX_OUTPUT}\" \"{DrivePath02}\"\n",
        "!cp -r \"{MUX_OUTPUT}\" \"{DrivePath03}\"\n",
        "!cp -r \"{MUX_OUTPUT}\" \"{DrivePath04}\"\n",
        "clear_output()\n",
        "print(\"Done! Video Copyed to Google Drive\")"
      ],
      "metadata": {
        "id": "-mFqGU941CRo",
        "cellView": "form"
      },
      "execution_count": null,
      "outputs": []
    },
    {
      "cell_type": "code",
      "source": [
        "#@markdown **Start Remove**\n",
        "!rm -r \"{VIDEO_OUTPUT}\" \n",
        "!rm -r \"{AUDIO_OUTPUT}\" \n",
        "!rm -r \"{VIDEO_DECRYPT_OUTPUT}\"\n",
        "!rm -r \"{AUDIO_DECRYPT_OUTPUT}\"\n",
        "!rm -r \"{FINAL_OUTPUT}\" \n",
        "!rm -r \"{SUBTITLE_INPUT_01}\"\n",
        "!rm -r \"{SUBTITLE_OUTPUT_01}\" \n",
        "!rm -r \"{SUBTITLE_INPUT_02}\"\n",
        "!rm -r \"{SUBTITLE_OUTPUT_02}\" \n",
        "!rm -r \"{SUBTITLE_INPUT_03}\"\n",
        "!rm -r \"{SUBTITLE_OUTPUT_03}\"\n",
        "!rm -r \"{MUX_OUTPUT}\"\n",
        "print(\"Done! All File in Root Removed\")"
      ],
      "metadata": {
        "cellView": "form",
        "id": "NB2r4O5s8LKE"
      },
      "execution_count": null,
      "outputs": []
    },
    {
      "cell_type": "code",
      "source": [
        "#@title **Copy SubFolder Shareddrive**\n",
        "!ls '/content/drive/Shareddrives'\n",
        "SHAREDDRIVES = '' #@param {type:\"string\"}\n",
        "DESTINATIONS = '' #@param {type:\"string\"}\n",
        "print(\"Processing.....\")\n",
        "!cp -av \"{SHAREDDRIVES}\" \"{DESTINATIONS}\"\n",
        "clear_output()\n",
        "print(\"Done!\")"
      ],
      "metadata": {
        "id": "D4WmoCpG-wEA",
        "cellView": "form"
      },
      "execution_count": null,
      "outputs": []
    },
    {
      "cell_type": "code",
      "source": [
        "#@title **Copy File**\n",
        "SOURCE_FILE1 = '' #@param {type:\"string\"}\n",
        "SOURCE_FILE2 = '' #@param {type:\"string\"}\n",
        "SOURCE_FILE3 = '' #@param {type:\"string\"}\n",
        "SOURCE_FILE4 = '' #@param {type:\"string\"}\n",
        "SOURCE_FILE5 = '' #@param {type:\"string\"}\n",
        "DESTINATIONS = '' #@param {type:\"string\"}\n",
        "print(\"Processing.....\")\n",
        "!cp -r \"{SOURCE_FILE1}\" \"{DESTINATIONS}\"\n",
        "clear_output()\n",
        "!cp -r \"{SOURCE_FILE2}\" \"{DESTINATIONS}\"\n",
        "clear_output()\n",
        "!cp -r \"{SOURCE_FILE3}\" \"{DESTINATIONS}\"\n",
        "clear_output()\n",
        "!cp -r \"{SOURCE_FILE4}\" \"{DESTINATIONS}\"\n",
        "clear_output()\n",
        "!cp -r \"{SOURCE_FILE5}\" \"{DESTINATIONS}\"\n",
        "clear_output()\n",
        "print(\"Done!\")"
      ],
      "metadata": {
        "id": "p_SgfkVWEKDV",
        "cellView": "form"
      },
      "execution_count": null,
      "outputs": []
    },
    {
      "cell_type": "code",
      "source": [
        "#@title **Move File**\n",
        "SOURCE_FILE1 = '' #@param {type:\"string\"}\n",
        "SOURCE_FILE2 = '' #@param {type:\"string\"}\n",
        "SOURCE_FILE3 = '' #@param {type:\"string\"}\n",
        "SOURCE_FILE4 = '' #@param {type:\"string\"}\n",
        "SOURCE_FILE5 = '' #@param {type:\"string\"}\n",
        "DESTINATIONS = '' #@param {type:\"string\"}\n",
        "print(\"Processing.....\")\n",
        "!mv \"{SOURCE_FILE1}\" \"{DESTINATIONS}\"\n",
        "clear_output()\n",
        "!mv \"{SOURCE_FILE2}\" \"{DESTINATIONS}\"\n",
        "clear_output()\n",
        "!mv \"{SOURCE_FILE3}\" \"{DESTINATIONS}\"\n",
        "clear_output()\n",
        "!mv \"{SOURCE_FILE4}\" \"{DESTINATIONS}\"\n",
        "clear_output()\n",
        "!mv \"{SOURCE_FILE5}\" \"{DESTINATIONS}\"\n",
        "clear_output()\n",
        "print(\"Done!\")"
      ],
      "metadata": {
        "cellView": "form",
        "id": "V9NfNjnEgxWI"
      },
      "execution_count": null,
      "outputs": []
    },
    {
      "cell_type": "code",
      "source": [
        "#@title **Download File to Google Drive**\n",
        "SOURCE_URI1 = \"\" #@param {type:\"string\"}\n",
        "SOURCE_URI2 = \"\" #@param {type:\"string\"}\n",
        "SOURCE_URI3 = \"\" #@param {type:\"string\"}\n",
        "SOURCE_URI4 = \"\" #@param {type:\"string\"}\n",
        "SOURCE_URI5 = \"\" #@param {type:\"string\"}\n",
        "DESTINATION = \"\" #@param {type:\"string\"}\n",
        "print(\"Downloading.....\")\n",
        "!aria2c --file-allocation=none -x16 \"{SOURCE_URI1}\" --dir=\"{DESTINATION}\"\n",
        "!aria2c --file-allocation=none -x16 \"{SOURCE_URI2}\" --dir=\"{DESTINATION}\"\n",
        "!aria2c --file-allocation=none -x16 \"{SOURCE_URI3}\" --dir=\"{DESTINATION}\"\n",
        "!aria2c --file-allocation=none -x16 \"{SOURCE_URI4}\" --dir=\"{DESTINATION}\"\n",
        "!aria2c --file-allocation=none -x16 \"{SOURCE_URI5}\" --dir=\"{DESTINATION}\"\n",
        "clear_output()\n",
        "print(\"File Downloaded to Google Drive\")"
      ],
      "metadata": {
        "cellView": "form",
        "id": "s5a2cRGqXWSN"
      },
      "execution_count": null,
      "outputs": []
    },
    {
      "cell_type": "code",
      "source": [
        "#@title **System Detail**\n",
        "!free -h\n",
        "!nvidia-smi -L\n",
        "!lscpu |grep 'Model name'\n",
        "!lscpu | grep 'Core(s) per socket:'\n",
        "!lscpu | grep 'Thread(s) per core'\n",
        "!nvidia-smi\n",
        "!nvcc --version"
      ],
      "metadata": {
        "cellView": "form",
        "id": "tbCIVntHvmMy"
      },
      "execution_count": null,
      "outputs": []
    },
    {
      "cell_type": "markdown",
      "source": [
        "# **__View Size Path__**"
      ],
      "metadata": {
        "id": "AWutiI6iY8st"
      }
    },
    {
      "cell_type": "code",
      "source": [
        "#@title Mount Google Drive\n",
        "\n",
        "import os\n",
        "import sys\n",
        "from google.colab import drive\n",
        "\n",
        "drive.mount('/content/gdrive')\n",
        "gdrive_path = r'/content/gdrive/My Drive'\n",
        "drive_path = r'/content/My_Drive'\n",
        "os.symlink(gdrive_path, drive_path)\n",
        "sys.path.insert(0, drive_path)\n",
        "print('Working Google Drive Path:', drive_path)"
      ],
      "metadata": {
        "id": "CL5nz05qXxKG",
        "cellView": "form"
      },
      "execution_count": null,
      "outputs": []
    },
    {
      "cell_type": "code",
      "source": [
        "#@title View Size Folder\n",
        "\n",
        "def get_size(start_path = '.', unit='MB'):\n",
        "    total_size = 0\n",
        "    for dirpath, dirnames, filenames in os.walk(start_path):\n",
        "        for f in filenames:\n",
        "            fp = os.path.join(dirpath, f)\n",
        "            # skip if it is symbolic link\n",
        "            if not os.path.islink(fp):\n",
        "                total_size += os.path.getsize(fp)\n",
        "\n",
        "    if unit == 'MB':\n",
        "      total_size *= 1e-6\n",
        "    elif unit == 'GB':\n",
        "      total_size *= 1e-9\n",
        "    elif unit == 'TB':\n",
        "      total_size *= 1e-12\n",
        "\n",
        "    return total_size\n",
        "\n",
        "target_dir = '/content/gdrive/MyDrive' #@param {type: 'string'}\n",
        "output_unit = 'GB' #@param ['MB', 'GB', 'TB']\n",
        "\n",
        "dir_size = round(get_size(target_dir, output_unit), 2)\n",
        "print('Target directory:', target_dir)\n",
        "print('Directory size is', dir_size, output_unit)"
      ],
      "metadata": {
        "cellView": "form",
        "id": "kiJ-E1IbX5M6"
      },
      "execution_count": null,
      "outputs": []
    }
  ]
}