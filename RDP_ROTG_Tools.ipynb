{
  "nbformat": 4,
  "nbformat_minor": 0,
  "metadata": {
    "colab": {
      "name": "RDP ROTG Tools.ipynb",
      "provenance": [],
      "collapsed_sections": [],
      "include_colab_link": true
    },
    "kernelspec": {
      "name": "python3",
      "display_name": "Python 3"
    }
  },
  "cells": [
    {
      "cell_type": "markdown",
      "metadata": {
        "id": "view-in-github",
        "colab_type": "text"
      },
      "source": [
        "<a href=\"https://colab.research.google.com/github/miunprime/colab/blob/main/RDP_ROTG_Tools.ipynb\" target=\"_parent\"><img src=\"https://colab.research.google.com/assets/colab-badge.svg\" alt=\"Open In Colab\"/></a>"
      ]
    },
    {
      "cell_type": "markdown",
      "source": [
        "#__Google Colab RDP__"
      ],
      "metadata": {
        "id": "i9PPS1iHrLSz"
      }
    },
    {
      "cell_type": "code",
      "source": [
        "#@title **Create User & Password**\n",
        "\n",
        "import os\n",
        "\n",
        "username = \"tkimondok\" #@param {type:\"string\"}\n",
        "password = \"123456\" #@param {type:\"string\"}\n",
        "\n",
        "print(\"Creating User and Setting it up\")\n",
        "\n",
        "# Creation of user\n",
        "os.system(f\"useradd -m {username}\")\n",
        "\n",
        "# Add user to sudo group\n",
        "os.system(f\"adduser {username} sudo\")\n",
        "    \n",
        "# Set password of user to 'root'\n",
        "os.system(f\"echo '{username}:{password}' | sudo chpasswd\")\n",
        "\n",
        "# Change default shell from sh to bash\n",
        "os.system(\"sed -i 's/\\/bin\\/sh/\\/bin\\/bash/g' /etc/passwd\")\n",
        "\n",
        "print(f\"User created and configured having username `{username}` and password `{password}`\")\n",
        "\n",
        "#@markdown  It takes 4-5 minutes for installation\n",
        "\n",
        "import os\n",
        "import subprocess\n",
        "\n",
        "#@markdown  Visit http://remotedesktop.google.com/headless and copy the command after Authentication\n",
        "\n",
        "CRP = \"\" #@param {type:\"string\"}\n",
        "Pin = 123456 #@param {type: \"integer\"}\n",
        "Autostart = True #@param {type: \"boolean\"}\n",
        "\n",
        "\n",
        "class CRD:\n",
        "    def __init__(self, user):\n",
        "        os.system(\"apt update\")\n",
        "        self.installCRD()\n",
        "        self.installDesktopEnvironment()\n",
        "        self.installGoogleChorme()\n",
        "        self.finish(user)\n",
        "        print(\"\\nRDP created succesfully move to https://remotedesktop.google.com/access\")\n",
        "\n",
        "    @staticmethod\n",
        "    def installCRD():\n",
        "        print(\"Installing Chrome Remote Desktop\")\n",
        "        subprocess.run(['wget', 'https://dl.google.com/linux/direct/chrome-remote-desktop_current_amd64.deb'], stdout=subprocess.PIPE)\n",
        "        subprocess.run(['dpkg', '--install', 'chrome-remote-desktop_current_amd64.deb'], stdout=subprocess.PIPE)\n",
        "        subprocess.run(['apt', 'install', '--assume-yes', '--fix-broken'], stdout=subprocess.PIPE)\n",
        "\n",
        "    @staticmethod\n",
        "    def installDesktopEnvironment():\n",
        "        print(\"Installing Desktop Environment\")\n",
        "        os.system(\"export DEBIAN_FRONTEND=noninteractive\")\n",
        "        os.system(\"apt install --assume-yes xfce4 desktop-base xfce4-terminal\")\n",
        "        os.system(\"bash -c 'echo \\\"exec /etc/X11/Xsession /usr/bin/xfce4-session\\\" > /etc/chrome-remote-desktop-session'\")\n",
        "        os.system(\"apt remove --assume-yes gnome-terminal\")\n",
        "        os.system(\"apt install --assume-yes xscreensaver\")\n",
        "        os.system(\"systemctl disable lightdm.service\")\n",
        "\n",
        "    @staticmethod\n",
        "    def installGoogleChorme():\n",
        "        print(\"Installing Google Chrome\")\n",
        "        subprocess.run([\"wget\", \"https://dl.google.com/linux/direct/google-chrome-stable_current_amd64.deb\"], stdout=subprocess.PIPE)\n",
        "        subprocess.run([\"dpkg\", \"--install\", \"google-chrome-stable_current_amd64.deb\"], stdout=subprocess.PIPE)\n",
        "        subprocess.run(['apt', 'install', '--assume-yes', '--fix-broken'], stdout=subprocess.PIPE)\n",
        "\n",
        "    @staticmethod\n",
        "    def finish(user):\n",
        "        print(\"Finalizing\")\n",
        "        if Autostart:\n",
        "            os.makedirs(f\"/home/{user}/.config/autostart\", exist_ok=True)\n",
        "            link = \"https://colab.research.google.com/github/miunprime/colab/blob/master/Colab%20RDP/Colab%20RDP.ipynb\"\n",
        "            colab_autostart = \"\"\"[Desktop Entry]\n",
        "Type=Application\n",
        "Name=Colab\n",
        "Exec=sh -c \"sensible-browser {}\"\n",
        "Icon=\n",
        "Comment=Open a predefined notebook at session signin.\n",
        "X-GNOME-Autostart-enabled=true\"\"\".format(link)\n",
        "            with open(f\"/home/{user}/.config/autostart/colab.desktop\", \"w\") as f:\n",
        "                f.write(colab_autostart)\n",
        "            os.system(f\"chmod +x /home/{user}/.config/autostart/colab.desktop\")\n",
        "            os.system(f\"chown {user}:{user} /home/{user}/.config\")\n",
        "\n",
        "        os.system(f\"adduser {user} chrome-remote-desktop\")\n",
        "        command = f\"{CRP} --pin={Pin}\"\n",
        "        os.system(f\"su - {user} -c '{command}'\")\n",
        "        os.system(\"service chrome-remote-desktop start\")\n",
        "        \n",
        "\n",
        "        print(\"Finished Succesfully\")\n",
        "\n",
        "\n",
        "try:\n",
        "    if CRP == \"\":\n",
        "        print(\"Please enter authcode from the given link\")\n",
        "    elif len(str(Pin)) < 6:\n",
        "        print(\"Enter a pin more or equal to 6 digits\")\n",
        "    else:\n",
        "        CRD(username)\n",
        "except NameError as e:\n",
        "    print(\"'username' variable not found, Create a user first\")"
      ],
      "metadata": {
        "cellView": "form",
        "id": "RgwGTFw0spMt"
      },
      "execution_count": null,
      "outputs": []
    },
    {
      "cell_type": "markdown",
      "source": [
        "#__Google Colab ROTG Tools__"
      ],
      "metadata": {
        "id": "jv-RQDMycIhR"
      }
    },
    {
      "cell_type": "code",
      "source": [
        "#@title **Install ROTG tools**\n",
        "from google.colab import drive\n",
        "drive.mount('/content/drive')\n",
        "print(\"Done! Google Drive Mounted\")\n",
        "from IPython.display import clear_output \n",
        "!sudo apt update\n",
        "!sudo curl -L https://github.com/yt-dlp/yt-dlp/releases/latest/download/yt-dlp -o /usr/local/bin/yt-dlp\n",
        "!sudo chmod a+rx /usr/local/bin/yt-dlp\n",
        "!sudo curl -L https://github.com/tkimondok/ROTG/raw/main/mp4decrypt -o /usr/local/bin/mp4decrypt\n",
        "!sudo chmod a+rx /usr/local/bin/mp4decrypt\n",
        "!sudo apt install ffmpeg\n",
        "!sudo apt install aria2\n",
        "clear_output()\n",
        "print(\"Done! ROTG Tools Installed\")"
      ],
      "metadata": {
        "id": "7A_f6IA3cQHa",
        "cellView": "form"
      },
      "execution_count": null,
      "outputs": []
    },
    {
      "cell_type": "markdown",
      "source": [
        "#__Start ROTG Tools__"
      ],
      "metadata": {
        "id": "PUKHbPw-d3xQ"
      }
    },
    {
      "cell_type": "code",
      "source": [
        "#@markdown **Extract Manifest Info**\n",
        "MPD_URL = '/MYS_DOLBY_index.mpd' #@param {type:\"string\"}\n",
        "!yt-dlp --no-warnings --allow-u -F \"{MPD_URL}\""
      ],
      "metadata": {
        "id": "uqJmkdPFd2up",
        "cellView": "form"
      },
      "execution_count": null,
      "outputs": []
    },
    {
      "cell_type": "code",
      "source": [
        "#@markdown <h2>Download Video and Audio</h2>\n",
        "from IPython.display import clear_output\n",
        "VIDEO_ID = 'video_avc1_1' #@param {type:\"string\"}\n",
        "AUDIO_ID = 'audio_DOLBY_ec-3' #@param {type:\"string\"}\n",
        "VIDEO_OUTPUT = 'default.mp4' #@param {type:\"string\"}\n",
        "AUDIO_OUTPUT = 'default.m4a' #@param {type:\"string\"}\n",
        "VIDEO_DECRYPT_OUTPUT = 'dec.mp4' #@param {type:\"string\"}\n",
        "AUDIO_DECRYPT_OUTPUT = 'dec.m4a' #@param {type:\"string\"}\n",
        "KID_KEY = 'b73908f4dc0451ccb9b9a5039471fba8:f68fa3ef50900875ee0b4416c1a0b259' #@param {type:\"string\"}\n",
        "FINAL_OUTPUT = 'done.mp4' #@param {type:\"string\"}\n",
        "print(\"Downloading Encrypted video.....\")\n",
        "!yt-dlp --no-warnings --allow-u -f \"{VIDEO_ID}\" \"{MPD_URL}\" -o \"{VIDEO_OUTPUT}\" -N 60\n",
        "clear_output()\n",
        "print(\"Success\")\n",
        "clear_output()\n",
        "print(\"Downloading Encrypted audio.....\")\n",
        "!yt-dlp --no-warnings --allow-u -f \"{AUDIO_ID}\" \"{MPD_URL}\" -o \"{AUDIO_OUTPUT}\" -N 60\n",
        "clear_output()\n",
        "print(\"Success\")\n",
        "clear_output()\n",
        "print(\"Decrypting video.....\")\n",
        "!mp4decrypt --show-progress --key \"{KID_KEY}\" \"{VIDEO_OUTPUT}\" \"{VIDEO_DECRYPT_OUTPUT}\"\n",
        "clear_output()\n",
        "print(\"Success\")\n",
        "clear_output()\n",
        "print(\"Decrypting audio.....\")\n",
        "!mp4decrypt --show-progress --key \"{KID_KEY}\" \"{AUDIO_OUTPUT}\" \"{AUDIO_DECRYPT_OUTPUT}\"\n",
        "clear_output()\n",
        "print(\"Success\")\n",
        "clear_output()\n",
        "print(\"Merging video and audio into single file.....\")\n",
        "!ffmpeg -loglevel error -i \"{VIDEO_DECRYPT_OUTPUT}\" -i \"{AUDIO_DECRYPT_OUTPUT}\" -c copy \"{FINAL_OUTPUT}\"\n",
        "clear_output()\n",
        "print(\"Success\")\n",
        "clear_output()\n",
        "print(\"Done! Video Ready to Download.\")"
      ],
      "metadata": {
        "id": "yesgUWe2fF0p",
        "cellView": "form"
      },
      "execution_count": null,
      "outputs": []
    },
    {
      "cell_type": "markdown",
      "source": [
        "#__Download Subtitle from MPD__"
      ],
      "metadata": {
        "id": "0wpWay7NqmiF"
      }
    },
    {
      "cell_type": "code",
      "source": [
        "#@title **Get List And Download**\n",
        "print(\"Get List....\")\n",
        "!yt-dlp --no-warnings --allow-u --list-subs \"{MPD_URL}\"\n",
        "print(\"Downloading....\")\n",
        "!yt-dlp --no-warnings --allow-u -N 32 --skip-download --all-subs \"{MPD_URL}\" -o subtitle\n",
        "clear_output()\n",
        "print(\"Done! All Subtitle Downloaded\")"
      ],
      "metadata": {
        "cellView": "form",
        "id": "vxllVZ7Rqx7M"
      },
      "execution_count": null,
      "outputs": []
    },
    {
      "cell_type": "code",
      "source": [
        "#@title **Convert VTT to SRT**\n",
        "SUBTITLE_INPUT_01 = 'subtitle.MA.vtt' #@param {type:\"string\"}\n",
        "SUBTITLE_OUTPUT_01 = 'MA.srt' #@param {type:\"string\"}\n",
        "!ffmpeg -loglevel error -i \"{SUBTITLE_INPUT_01}\" \"{SUBTITLE_OUTPUT_01}\"\n",
        "SUBTITLE_INPUT_02 = 'subtitle.EN.vtt' #@param {type:\"string\"}\n",
        "SUBTITLE_OUTPUT_02 = 'EN.srt' #@param {type:\"string\"}\n",
        "!ffmpeg -loglevel error -i \"{SUBTITLE_INPUT_02}\" \"{SUBTITLE_OUTPUT_02}\"\n",
        "SUBTITLE_INPUT_03 = 'subtitle.CN.vtt' #@param {type:\"string\"}\n",
        "SUBTITLE_OUTPUT_03 = 'CN.srt' #@param {type:\"string\"}\n",
        "!ffmpeg -loglevel error -i \"{SUBTITLE_INPUT_03}\" \"{SUBTITLE_OUTPUT_03}\"\n",
        "clear_output()\n",
        "print(\"Done! All Subtitle Converted to SRT\")"
      ],
      "metadata": {
        "id": "pxF8VMauwllD",
        "cellView": "form"
      },
      "execution_count": null,
      "outputs": []
    },
    {
      "cell_type": "markdown",
      "source": [
        "#__Mux Video and Subtitle__"
      ],
      "metadata": {
        "id": "UV6C9kmQp3q9"
      }
    },
    {
      "cell_type": "code",
      "source": [
        "#@markdown **Mux Video and Subtitle**\n",
        "SUBTITLE_01 = 'EN.srt' #@param {type:\"string\"}\n",
        "SUBTITLE_02 = 'MA.srt' #@param {type:\"string\"}\n",
        "SUBTITLE_03 = 'CN.srt' #@param {type:\"string\"}\n",
        "LANGUAGE_01 = 'english' #@param {type:\"string\"}\n",
        "LANGUAGE_02 = 'malaysia' #@param {type:\"string\"}\n",
        "LANGUAGE_03 = 'china' #@param {type:\"string\"}\n",
        "MUX_OUTPUT = 'ROTG.Tools.1080p.WEB-DL.DDP5.1.Atmos.x265.HEVC-AAC.H264-ROTG.mkv' #@param {type:\"string\"}\n",
        "print(\"Processing.....\")\n",
        "!ffmpeg -i \"{FINAL_OUTPUT}\" -i \"{SUBTITLE_01}\" -i \"{SUBTITLE_02}\" -i \"{SUBTITLE_03}\" -map 0 -map 1:s -map 2:s -map 3:s -c copy -metadata:s:s:0 language=\"{LANGUAGE_01}\" -metadata:s:s:1 language=\"{LANGUAGE_02}\" -metadata:s:s:2 language=\"{LANGUAGE_03}\" \"{MUX_OUTPUT}\"\n",
        "clear_output()\n",
        "print(\"Done! Video and Subtitle Muxed\")"
      ],
      "metadata": {
        "id": "MJaafoKCzmbh",
        "cellView": "form"
      },
      "execution_count": null,
      "outputs": []
    },
    {
      "cell_type": "markdown",
      "source": [
        "#__Copy Muxed Subtitle to Google Drive__"
      ],
      "metadata": {
        "id": "fdy9C6b304ZA"
      }
    },
    {
      "cell_type": "code",
      "source": [
        "#@markdown **Copy From Root to Destination**\n",
        "DESTINATION_MIUN = '' #@param {type:\"string\"}\n",
        "DESTINATION_ROTG = '' #@param {type:\"string\"}\n",
        "DESTINATION_IMAN = '' #@param {type:\"string\"}\n",
        "DESTINATION_XXXX = '' #@param {type:\"string\"}\n",
        "print(\"Processing.....\")\n",
        "!cp -r \"{MUX_OUTPUT}\" \"{DESTINATION_MIUN}\"\n",
        "!cp -r \"{MUX_OUTPUT}\" \"{DESTINATION_ROTG}\"\n",
        "!cp -r \"{MUX_OUTPUT}\" \"{DESTINATION_IMAN}\"\n",
        "!cp -r \"{MUX_OUTPUT}\" \"{DESTINATION_XXXX}\"\n",
        "clear_output()\n",
        "print(\"Done! Video Moved to Google Drive\")"
      ],
      "metadata": {
        "id": "-mFqGU941CRo",
        "cellView": "form"
      },
      "execution_count": null,
      "outputs": []
    },
    {
      "cell_type": "markdown",
      "source": [
        "#__Remove All File In Root__"
      ],
      "metadata": {
        "id": "jBc1lioh75DQ"
      }
    },
    {
      "cell_type": "code",
      "source": [
        "#@markdown **Start Remove**\n",
        "!rm -r \"{VIDEO_OUTPUT}\" \n",
        "!rm -r \"{AUDIO_OUTPUT}\" \n",
        "!rm -r \"{VIDEO_DECRYPT_OUTPUT}\"\n",
        "!rm -r \"{AUDIO_DECRYPT_OUTPUT}\"\n",
        "!rm -r \"{FINAL_OUTPUT}\" \n",
        "!rm -r \"{SUBTITLE_INPUT_01}\"\n",
        "!rm -r \"{SUBTITLE_OUTPUT_01}\" \n",
        "!rm -r \"{SUBTITLE_INPUT_02}\"\n",
        "!rm -r \"{SUBTITLE_OUTPUT_02}\" \n",
        "!rm -r \"{SUBTITLE_INPUT_03}\"\n",
        "!rm -r \"{SUBTITLE_OUTPUT_03}\"\n",
        "!rm -r \"{MUX_OUTPUT}\"\n",
        "print(\"Done! All File in Root Removed\")"
      ],
      "metadata": {
        "cellView": "form",
        "id": "NB2r4O5s8LKE"
      },
      "execution_count": null,
      "outputs": []
    },
    {
      "cell_type": "markdown",
      "source": [
        "# **Google Drive Tools**"
      ],
      "metadata": {
        "id": "Q1Xq-Qe9Drct"
      }
    },
    {
      "cell_type": "code",
      "source": [
        "#@title **Copy SubFolder Shareddrive**\n",
        "!ls '/content/drive/Shareddrives'\n",
        "SHAREDDRIVES = '' #@param {type:\"string\"}\n",
        "DESTINATIONS = '' #@param {type:\"string\"}\n",
        "print(\"Processing.....\")\n",
        "!cp -av \"{SHAREDDRIVES}\" \"{DESTINATIONS}\"\n",
        "clear_output()\n",
        "print(\"Done!\")"
      ],
      "metadata": {
        "id": "D4WmoCpG-wEA",
        "cellView": "form"
      },
      "execution_count": null,
      "outputs": []
    },
    {
      "cell_type": "code",
      "source": [
        "#@title **Copy File**\n",
        "SOURCE_FILE1 = '' #@param {type:\"string\"}\n",
        "SOURCE_FILE2 = '' #@param {type:\"string\"}\n",
        "SOURCE_FILE3 = '' #@param {type:\"string\"}\n",
        "SOURCE_FILE4 = '' #@param {type:\"string\"}\n",
        "SOURCE_FILE5 = '' #@param {type:\"string\"}\n",
        "DESTINATIONS = '' #@param {type:\"string\"}\n",
        "print(\"Processing.....\")\n",
        "!cp -r \"{SOURCE_FILE1}\" \"{DESTINATIONS}\"\n",
        "clear_output()\n",
        "!cp -r \"{SOURCE_FILE2}\" \"{DESTINATIONS}\"\n",
        "clear_output()\n",
        "!cp -r \"{SOURCE_FILE3}\" \"{DESTINATIONS}\"\n",
        "clear_output()\n",
        "!cp -r \"{SOURCE_FILE4}\" \"{DESTINATIONS}\"\n",
        "clear_output()\n",
        "!cp -r \"{SOURCE_FILE5}\" \"{DESTINATIONS}\"\n",
        "clear_output()\n",
        "print(\"Done!\")"
      ],
      "metadata": {
        "id": "p_SgfkVWEKDV",
        "cellView": "form"
      },
      "execution_count": null,
      "outputs": []
    },
    {
      "cell_type": "code",
      "source": [
        "#@title **Move File**\n",
        "SOURCE_FILE1 = '' #@param {type:\"string\"}\n",
        "SOURCE_FILE2 = '' #@param {type:\"string\"}\n",
        "SOURCE_FILE3 = '' #@param {type:\"string\"}\n",
        "SOURCE_FILE4 = '' #@param {type:\"string\"}\n",
        "SOURCE_FILE5 = '' #@param {type:\"string\"}\n",
        "DESTINATIONS = '' #@param {type:\"string\"}\n",
        "print(\"Processing.....\")\n",
        "!mv \"{SOURCE_FILE1}\" \"{DESTINATIONS}\"\n",
        "clear_output()\n",
        "!mv \"{SOURCE_FILE2}\" \"{DESTINATIONS}\"\n",
        "clear_output()\n",
        "!mv \"{SOURCE_FILE3}\" \"{DESTINATIONS}\"\n",
        "clear_output()\n",
        "!mv \"{SOURCE_FILE4}\" \"{DESTINATIONS}\"\n",
        "clear_output()\n",
        "!mv \"{SOURCE_FILE5}\" \"{DESTINATIONS}\"\n",
        "clear_output()\n",
        "print(\"Done!\")"
      ],
      "metadata": {
        "cellView": "form",
        "id": "V9NfNjnEgxWI"
      },
      "execution_count": null,
      "outputs": []
    },
    {
      "cell_type": "code",
      "source": [
        "#@title **Download File to Google Drive**\n",
        "SOURCE_URI1 = \"\" #@param {type:\"string\"}\n",
        "SOURCE_URI2 = \"\" #@param {type:\"string\"}\n",
        "SOURCE_URI3 = \"\" #@param {type:\"string\"}\n",
        "SOURCE_URI4 = \"\" #@param {type:\"string\"}\n",
        "SOURCE_URI5 = \"\" #@param {type:\"string\"}\n",
        "DESTINATION = \"\" #@param {type:\"string\"}\n",
        "print(\"Downloading.....\")\n",
        "!aria2c --file-allocation=none -x16 \"{SOURCE_URI1}\" --dir=\"{DESTINATION}\"\n",
        "!aria2c --file-allocation=none -x16 \"{SOURCE_URI2}\" --dir=\"{DESTINATION}\"\n",
        "!aria2c --file-allocation=none -x16 \"{SOURCE_URI3}\" --dir=\"{DESTINATION}\"\n",
        "!aria2c --file-allocation=none -x16 \"{SOURCE_URI4}\" --dir=\"{DESTINATION}\"\n",
        "!aria2c --file-allocation=none -x16 \"{SOURCE_URI5}\" --dir=\"{DESTINATION}\"\n",
        "clear_output()\n",
        "print(\"File Downloaded to Google Drive\")"
      ],
      "metadata": {
        "cellView": "form",
        "id": "s5a2cRGqXWSN"
      },
      "execution_count": null,
      "outputs": []
    },
    {
      "cell_type": "code",
      "source": [
        "#@title **System Detail**\n",
        "!free -h\n",
        "!nvidia-smi -L\n",
        "!lscpu |grep 'Model name'\n",
        "!lscpu | grep 'Core(s) per socket:'\n",
        "!lscpu | grep 'Thread(s) per core'\n",
        "!nvidia-smi\n",
        "!nvcc --version"
      ],
      "metadata": {
        "cellView": "form",
        "id": "tbCIVntHvmMy"
      },
      "execution_count": null,
      "outputs": []
    }
  ]
}