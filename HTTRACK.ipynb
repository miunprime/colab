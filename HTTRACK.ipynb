{
  "nbformat": 4,
  "nbformat_minor": 0,
  "metadata": {
    "colab": {
      "name": "HTTRACK.ipynb",
      "provenance": [],
      "mount_file_id": "15GJFwEpslxb19TcUHcMTefJ8FKl8EBuK",
      "authorship_tag": "ABX9TyPeDHE7r6rLr6dq8CN2MgHo",
      "include_colab_link": true
    },
    "kernelspec": {
      "name": "python3",
      "display_name": "Python 3"
    },
    "language_info": {
      "name": "python"
    }
  },
  "cells": [
    {
      "cell_type": "markdown",
      "metadata": {
        "id": "view-in-github",
        "colab_type": "text"
      },
      "source": [
        "<a href=\"https://colab.research.google.com/github/miunprime/colab/blob/main/HTTRACK.ipynb\" target=\"_parent\"><img src=\"https://colab.research.google.com/assets/colab-badge.svg\" alt=\"Open In Colab\"/></a>"
      ]
    },
    {
      "cell_type": "markdown",
      "source": [
        "**__HTTRACK__**"
      ],
      "metadata": {
        "id": "CIDR9VRD6iYR"
      }
    },
    {
      "cell_type": "code",
      "execution_count": null,
      "metadata": {
        "cellView": "form",
        "id": "_Iq6Uv4u6bcl"
      },
      "outputs": [],
      "source": [
        "#@title **Install httrack**\n",
        "from google.colab import drive\n",
        "drive.mount('/content/drive')\n",
        "print(\"Done! Google Drive Mounted\")\n",
        "from IPython.display import clear_output\n",
        "!apt update\n",
        "!apt install httrack\n",
        "clear_output()\n",
        "print(\"Done! httrack Installed\")"
      ]
    },
    {
      "cell_type": "code",
      "source": [
        "#@title httrack start\n",
        "HTTP = \"\" #@param {type:\"string\"}\n",
        "PATH = \"/content\" #@param {type:\"string\"}\n",
        "print(\"Downloading.....\")\n",
        "!httrack \"{HTTP}\" -O \"{PATH}\"\n",
        "clear_output()\n",
        "print(\"Done!\")"
      ],
      "metadata": {
        "cellView": "form",
        "id": "SRQgoMv98f0-"
      },
      "execution_count": null,
      "outputs": []
    },
    {
      "cell_type": "code",
      "source": [
        "#@title **Copy to Google Drive**\n",
        "PATH = '' #@param {type:\"string\"}\n",
        "DEST = '' #@param {type:\"string\"}\n",
        "print(\"Processing.....\")\n",
        "!cp -av \"{PATH}\" \"{DEST}\"\n",
        "clear_output()\n",
        "print(\"Done!\")"
      ],
      "metadata": {
        "cellView": "form",
        "id": "qdxK4-KTD4P7"
      },
      "execution_count": null,
      "outputs": []
    }
  ]
}